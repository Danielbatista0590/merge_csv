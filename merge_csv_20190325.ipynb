{
 "cells": [
  {
   "cell_type": "code",
   "execution_count": 2,
   "metadata": {},
   "outputs": [
    {
     "name": "stdout",
     "output_type": "stream",
     "text": [
      "C:\\Users\\KLDB00132941\\Documents\\Klabin\\04 - Sobrevivência\\05 - Levantamento de campo\\2019\\2019.03.25\\IFS_5423_ACO.csv has been imported.\n",
      "C:\\Users\\KLDB00132941\\Documents\\Klabin\\04 - Sobrevivência\\05 - Levantamento de campo\\2019\\2019.03.25\\IFS_AIV_6568.csv has been imported.\n",
      "C:\\Users\\KLDB00132941\\Documents\\Klabin\\04 - Sobrevivência\\05 - Levantamento de campo\\2019\\2019.03.25\\IFS_AJA_6557.csv has been imported.\n",
      "C:\\Users\\KLDB00132941\\Documents\\Klabin\\04 - Sobrevivência\\05 - Levantamento de campo\\2019\\2019.03.25\\IFS_AJA_6569.csv has been imported.\n",
      "C:\\Users\\KLDB00132941\\Documents\\Klabin\\04 - Sobrevivência\\05 - Levantamento de campo\\2019\\2019.03.25\\IFS_AJG_6558.csv has been imported.\n",
      "C:\\Users\\KLDB00132941\\Documents\\Klabin\\04 - Sobrevivência\\05 - Levantamento de campo\\2019\\2019.03.25\\IFS_ATA_5424.csv has been imported.\n",
      "C:\\Users\\KLDB00132941\\Documents\\Klabin\\04 - Sobrevivência\\05 - Levantamento de campo\\2019\\2019.03.25\\IFS_CMN_6572.csv has been imported.\n",
      "C:\\Users\\KLDB00132941\\Documents\\Klabin\\04 - Sobrevivência\\05 - Levantamento de campo\\2019\\2019.03.25\\IFS_FRE_6530.csv has been imported.\n"
     ]
    }
   ],
   "source": [
    "import shutil\n",
    "import glob\n",
    "\n",
    "#import csv files from folder\n",
    "path = r'C:\\Users\\KLDB00132941\\Documents\\Klabin\\04 - Sobrevivência\\05 - Levantamento de campo\\2019\\2019.03.25'\n",
    "allFiles = glob.glob(path + \"/*.csv\")\n",
    "with open('ifs_20190325.csv', 'wb') as outfile:\n",
    "    for i, fname in enumerate(allFiles):\n",
    "        with open(fname, 'rb') as infile:\n",
    "            if i != 0:\n",
    "                infile.readline()  # Throw away header on all but first file\n",
    "            # Block copy rest of file from input to output without parsing\n",
    "            shutil.copyfileobj(infile, outfile)\n",
    "            print(fname + \" has been imported.\")"
   ]
  },
  {
   "cell_type": "code",
   "execution_count": null,
   "metadata": {},
   "outputs": [],
   "source": []
  }
 ],
 "metadata": {
  "kernelspec": {
   "display_name": "Python 3",
   "language": "python",
   "name": "python3"
  },
  "language_info": {
   "codemirror_mode": {
    "name": "ipython",
    "version": 3
   },
   "file_extension": ".py",
   "mimetype": "text/x-python",
   "name": "python",
   "nbconvert_exporter": "python",
   "pygments_lexer": "ipython3",
   "version": "3.6.6"
  }
 },
 "nbformat": 4,
 "nbformat_minor": 2
}
